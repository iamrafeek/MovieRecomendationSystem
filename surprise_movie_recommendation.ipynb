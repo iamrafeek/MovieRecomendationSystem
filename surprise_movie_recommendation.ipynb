{
 "cells": [
  {
   "cell_type": "code",
   "execution_count": 1,
   "id": "69e824d8",
   "metadata": {},
   "outputs": [],
   "source": [
    "import pandas as pd\n",
    "from surprise import Dataset\n",
    "from surprise import Reader\n",
    "from surprise import SVD\n",
    "from surprise.model_selection import train_test_split\n",
    "from surprise import accuracy"
   ]
  },
  {
   "cell_type": "code",
   "execution_count": 2,
   "id": "6ed50fed",
   "metadata": {},
   "outputs": [],
   "source": [
    "ratings = pd.read_csv(r'dataset/ratings.csv')"
   ]
  },
  {
   "cell_type": "code",
   "execution_count": 3,
   "id": "93ee65b7",
   "metadata": {},
   "outputs": [
    {
     "data": {
      "text/html": [
       "<div>\n",
       "<style scoped>\n",
       "    .dataframe tbody tr th:only-of-type {\n",
       "        vertical-align: middle;\n",
       "    }\n",
       "\n",
       "    .dataframe tbody tr th {\n",
       "        vertical-align: top;\n",
       "    }\n",
       "\n",
       "    .dataframe thead th {\n",
       "        text-align: right;\n",
       "    }\n",
       "</style>\n",
       "<table border=\"1\" class=\"dataframe\">\n",
       "  <thead>\n",
       "    <tr style=\"text-align: right;\">\n",
       "      <th></th>\n",
       "      <th>userId</th>\n",
       "      <th>movieId</th>\n",
       "      <th>rating</th>\n",
       "      <th>tstamp</th>\n",
       "    </tr>\n",
       "  </thead>\n",
       "  <tbody>\n",
       "    <tr>\n",
       "      <th>0</th>\n",
       "      <td>206</td>\n",
       "      <td>4803</td>\n",
       "      <td>4.0</td>\n",
       "      <td>2003-04-07 13:52:01</td>\n",
       "    </tr>\n",
       "    <tr>\n",
       "      <th>1</th>\n",
       "      <td>5073</td>\n",
       "      <td>72731</td>\n",
       "      <td>4.0</td>\n",
       "      <td>2020-02-19 16:07:53</td>\n",
       "    </tr>\n",
       "    <tr>\n",
       "      <th>2</th>\n",
       "      <td>4739</td>\n",
       "      <td>91653</td>\n",
       "      <td>4.0</td>\n",
       "      <td>2020-12-28 15:35:58</td>\n",
       "    </tr>\n",
       "    <tr>\n",
       "      <th>3</th>\n",
       "      <td>535</td>\n",
       "      <td>3005</td>\n",
       "      <td>3.0</td>\n",
       "      <td>2008-12-26 05:38:11</td>\n",
       "    </tr>\n",
       "    <tr>\n",
       "      <th>4</th>\n",
       "      <td>465</td>\n",
       "      <td>4776</td>\n",
       "      <td>3.0</td>\n",
       "      <td>2008-08-13 20:22:36</td>\n",
       "    </tr>\n",
       "  </tbody>\n",
       "</table>\n",
       "</div>"
      ],
      "text/plain": [
       "   userId  movieId  rating               tstamp\n",
       "0     206     4803     4.0  2003-04-07 13:52:01\n",
       "1    5073    72731     4.0  2020-02-19 16:07:53\n",
       "2    4739    91653     4.0  2020-12-28 15:35:58\n",
       "3     535     3005     3.0  2008-12-26 05:38:11\n",
       "4     465     4776     3.0  2008-08-13 20:22:36"
      ]
     },
     "execution_count": 3,
     "metadata": {},
     "output_type": "execute_result"
    }
   ],
   "source": [
    "ratings.head()"
   ]
  },
  {
   "cell_type": "code",
   "execution_count": 4,
   "id": "1f6ee3aa",
   "metadata": {},
   "outputs": [
    {
     "name": "stdout",
     "output_type": "stream",
     "text": [
      "<class 'pandas.core.frame.DataFrame'>\n",
      "RangeIndex: 3908657 entries, 0 to 3908656\n",
      "Data columns (total 4 columns):\n",
      " #   Column   Dtype  \n",
      "---  ------   -----  \n",
      " 0   userId   int64  \n",
      " 1   movieId  int64  \n",
      " 2   rating   float64\n",
      " 3   tstamp   object \n",
      "dtypes: float64(1), int64(2), object(1)\n",
      "memory usage: 119.3+ MB\n"
     ]
    }
   ],
   "source": [
    "ratings.info()"
   ]
  },
  {
   "cell_type": "code",
   "execution_count": 5,
   "id": "d288e70c",
   "metadata": {},
   "outputs": [
    {
     "data": {
      "text/plain": [
       "4.0    900243\n",
       "3.5    747522\n",
       "3.0    693019\n",
       "4.5    405031\n",
       "5.0    341782\n",
       "2.5    310870\n",
       "2.0    241348\n",
       "1.5     95228\n",
       "1.0     95044\n",
       "0.5     78570\n",
       "Name: rating, dtype: int64"
      ]
     },
     "execution_count": 5,
     "metadata": {},
     "output_type": "execute_result"
    }
   ],
   "source": [
    "ratings['rating'].value_counts()"
   ]
  },
  {
   "cell_type": "code",
   "execution_count": 6,
   "id": "d5fedec5",
   "metadata": {},
   "outputs": [],
   "source": [
    "min_rating = 0.5\n",
    "max_rating = 5.0\n",
    "\n",
    "# Create a Surprise Reader object to specify the rating scale\n",
    "reader = Reader(rating_scale=(min_rating, max_rating))  # Specify the actual rating scale used in your data\n",
    "\n",
    "# Load the Pandas DataFrame into a Surprise Dataset\n",
    "data = Dataset.load_from_df(ratings[['userId', 'movieId', 'rating']], reader)\n",
    "\n",
    "# Split the data into train and test sets\n",
    "trainset, testset = train_test_split(data, test_size=.2)\n"
   ]
  },
  {
   "cell_type": "code",
   "execution_count": 7,
   "id": "c0afe06a",
   "metadata": {},
   "outputs": [],
   "source": [
    "algo = SVD()"
   ]
  },
  {
   "cell_type": "code",
   "execution_count": 8,
   "id": "89fd74f0",
   "metadata": {},
   "outputs": [
    {
     "data": {
      "text/plain": [
       "<surprise.prediction_algorithms.matrix_factorization.SVD at 0x217808f9ac0>"
      ]
     },
     "execution_count": 8,
     "metadata": {},
     "output_type": "execute_result"
    }
   ],
   "source": [
    "algo.fit(trainset)"
   ]
  },
  {
   "cell_type": "code",
   "execution_count": 9,
   "id": "ed9bf71b",
   "metadata": {},
   "outputs": [
    {
     "name": "stdout",
     "output_type": "stream",
     "text": [
      "RMSE: 0.7435\n"
     ]
    },
    {
     "data": {
      "text/plain": [
       "0.7435430437774956"
      ]
     },
     "execution_count": 9,
     "metadata": {},
     "output_type": "execute_result"
    }
   ],
   "source": [
    "predictions = algo.test(testset)\n",
    "accuracy.rmse(predictions)"
   ]
  },
  {
   "cell_type": "code",
   "execution_count": 10,
   "id": "73ed800f",
   "metadata": {},
   "outputs": [],
   "source": [
    "def predict_rating(user_id, movie_id):\n",
    "    prediction = algo.predict(user_id, movie_id)\n",
    "    return prediction.est"
   ]
  },
  {
   "cell_type": "code",
   "execution_count": 11,
   "id": "22559d4c",
   "metadata": {},
   "outputs": [],
   "source": [
    "def recommend_movies(user_id):\n",
    "    # Get a list of all the movies the user has not rated\n",
    "    all_movies = ratings['movieId'].unique()\n",
    "    user_movies = ratings[ratings['userId'] == user_id]['movieId'].unique()\n",
    "    new_movies = list(set(all_movies) - set(user_movies))\n",
    "    \n",
    "    # Predict the ratings for the new movies\n",
    "    predictions = [algo.predict(user_id, movie_id) for movie_id in new_movies]\n",
    "    \n",
    "    # Sort the predictions by estimated rating\n",
    "    predictions.sort(key=lambda x: x.est, reverse=True)\n",
    "    \n",
    "    # Get the top 10 recommendations\n",
    "    top_recommendations = [prediction.iid for prediction in predictions[:10]]\n",
    "    \n",
    "    return top_recommendations"
   ]
  },
  {
   "cell_type": "code",
   "execution_count": 12,
   "id": "0ce611c1",
   "metadata": {},
   "outputs": [],
   "source": [
    "movie_ids=recommend_movies(206)"
   ]
  },
  {
   "cell_type": "code",
   "execution_count": null,
   "id": "164096ea",
   "metadata": {},
   "outputs": [],
   "source": [
    "user_id = input(\"Enter your user ID: \")\n",
    "\n",
    "# Convert user_id to an integer\n",
    "user_id = int(user_id)\n",
    "\n",
    "# Call the recommend_movies function with the user's ID\n",
    "movie_ids = recommend_movies(user_id)\n",
    "\n",
    "df=ratings = pd.read_csv(r'dataset/movies.csv')\n",
    "filtered_df = df[df['movieId'].isin(movie_ids)]\n",
    "\n",
    "# Iterate over the filtered DataFrame and print the title and genres for each movie\n",
    "for index, row in filtered_df.iterrows():\n",
    "    print(f\"Movie ID: {row['movieId']}\")\n",
    "    print(f\"Title: {row['title']}\")\n",
    "    print(f\"Genres: {row['genres']}\")\n",
    "    print('-' * 30)"
   ]
  },
  {
   "cell_type": "code",
   "execution_count": null,
   "id": "bb22e361",
   "metadata": {},
   "outputs": [],
   "source": []
  },
  {
   "cell_type": "code",
   "execution_count": null,
   "id": "77539fb2",
   "metadata": {},
   "outputs": [],
   "source": []
  }
 ],
 "metadata": {
  "kernelspec": {
   "display_name": "Python 3 (ipykernel)",
   "language": "python",
   "name": "python3"
  },
  "language_info": {
   "codemirror_mode": {
    "name": "ipython",
    "version": 3
   },
   "file_extension": ".py",
   "mimetype": "text/x-python",
   "name": "python",
   "nbconvert_exporter": "python",
   "pygments_lexer": "ipython3",
   "version": "3.9.16"
  }
 },
 "nbformat": 4,
 "nbformat_minor": 5
}
